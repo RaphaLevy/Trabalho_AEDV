{
 "cells": [
  {
   "cell_type": "markdown",
   "metadata": {},
   "source": [
    "# Trabalho Final da disciplina AEDV \n",
    "**Estudantes: Juliana Carvalho e Raphael Levy**\n",
    "\n",
    "**Novembro de 2021**"
   ]
  },
  {
   "cell_type": "markdown",
   "metadata": {},
   "source": [
    "Passo 1: Escolha da base de dados.\n",
    "\n",
    "\n",
    "https://www.kaggle.com/smithsonian/volcanic-eruptions"
   ]
  },
  {
   "cell_type": "code",
   "execution_count": 9,
   "metadata": {},
   "outputs": [],
   "source": [
    "import pandas as pd\n",
    "\n",
    "url = \"https://raw.githubusercontent.com/JuCarv-bit/RepositoryOfDatabase/main/database.csv\"\n",
    "df = pd.read_csv(url, index_col=0)\n"
   ]
  },
  {
   "cell_type": "code",
   "execution_count": 10,
   "metadata": {
    "scrolled": false
   },
   "outputs": [
    {
     "name": "stdout",
     "output_type": "stream",
     "text": [
      "                             Name  Country                          Region  \\\n",
      "Number                                                                       \n",
      "210010  West Eifel Volcanic Field  Germany  Mediterranean and Western Asia   \n",
      "210020            Chaine des Puys   France  Mediterranean and Western Asia   \n",
      "210030        Olot Volcanic Field    Spain  Mediterranean and Western Asia   \n",
      "210040   Calatrava Volcanic Field    Spain  Mediterranean and Western Asia   \n",
      "211001                 Larderello    Italy  Mediterranean and Western Asia   \n",
      "\n",
      "                       Type  Activity Evidence Last Known Eruption  Latitude  \\\n",
      "Number                                                                         \n",
      "210010              Maar(s)     Eruption Dated            8300 BCE    50.170   \n",
      "210020         Lava dome(s)     Eruption Dated            4040 BCE    45.775   \n",
      "210030  Pyroclastic cone(s)  Evidence Credible             Unknown    42.170   \n",
      "210040  Pyroclastic cone(s)     Eruption Dated            3600 BCE    38.870   \n",
      "211001  Explosion crater(s)  Eruption Observed             1282 CE    43.250   \n",
      "\n",
      "        Longitude  Elevation (Meters)                Dominant Rock Type  \\\n",
      "Number                                                                    \n",
      "210010       6.85                 600                           Foidite   \n",
      "210020       2.97                1464             Basalt / Picro-Basalt   \n",
      "210030       2.53                 893  Trachybasalt / Tephrite Basanite   \n",
      "210040      -4.02                1117             Basalt / Picro-Basalt   \n",
      "211001      10.87                 500                           No Data   \n",
      "\n",
      "                                    Tectonic Setting  \n",
      "Number                                                \n",
      "210010        Rift Zone / Continental Crust (>25 km)  \n",
      "210020        Rift Zone / Continental Crust (>25 km)  \n",
      "210030       Intraplate / Continental Crust (>25 km)  \n",
      "210040       Intraplate / Continental Crust (>25 km)  \n",
      "211001  Subduction Zone / Continental Crust (>25 km)  \n",
      "Index(['Name', 'Country', 'Region', 'Type', 'Activity Evidence',\n",
      "       'Last Known Eruption', 'Latitude', 'Longitude', 'Elevation (Meters)',\n",
      "       'Dominant Rock Type', 'Tectonic Setting'],\n",
      "      dtype='object')\n"
     ]
    }
   ],
   "source": [
    "print(df.head())\n",
    "print(df.columns)"
   ]
  },
  {
   "cell_type": "code",
   "execution_count": null,
   "metadata": {},
   "outputs": [],
   "source": []
  }
 ],
 "metadata": {
  "kernelspec": {
   "display_name": "Python 3",
   "language": "python",
   "name": "python3"
  },
  "language_info": {
   "codemirror_mode": {
    "name": "ipython",
    "version": 3
   },
   "file_extension": ".py",
   "mimetype": "text/x-python",
   "name": "python",
   "nbconvert_exporter": "python",
   "pygments_lexer": "ipython3",
   "version": "3.7.6"
  }
 },
 "nbformat": 4,
 "nbformat_minor": 4
}
